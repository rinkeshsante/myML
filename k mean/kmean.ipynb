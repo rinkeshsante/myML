{
 "cells": [
  {
   "cell_type": "code",
   "execution_count": 1,
   "id": "radical-stanley",
   "metadata": {},
   "outputs": [],
   "source": [
    "import numpy as np\n",
    "import matplotlib.pyplot  as plt"
   ]
  },
  {
   "cell_type": "code",
   "execution_count": 2,
   "id": "superb-remains",
   "metadata": {},
   "outputs": [
    {
     "data": {
      "text/plain": [
       "3.605551275463989"
      ]
     },
     "execution_count": 2,
     "metadata": {},
     "output_type": "execute_result"
    }
   ],
   "source": [
    "def findDist(row1, row2):\n",
    "    dist = 0\n",
    "    for i,j in zip(row1,row2):\n",
    "        dist += (i - j)**2\n",
    "    \n",
    "    return dist **.5\n",
    "\n",
    "\n",
    "def printPonits(ponits,c):\n",
    "    \n",
    "#     xl ,yl =np.array([pt[0] for pt in ponits]) ,np.array( [pt[1] for pt in ponits])\n",
    "\n",
    "    for i,j,k in ponits:\n",
    "        plt.scatter( [i],[j] ,color = c[k],\n",
    "                   marker = \"o\", s = 30)\n",
    "\n",
    "    # predicted response vector\n",
    "#     y_pred = line['c'] + line['m']*xl\n",
    "\n",
    "    # plotting the regression line\n",
    "#     plt.plot(xl, y_pred, color = \"g\")\n",
    "\n",
    "    # putting labels\n",
    "    plt.xlabel('x')\n",
    "    plt.ylabel('y')\n",
    "\n",
    "    # function to show plot\n",
    "    plt.show()\n",
    "\n",
    "findDist([3,4,1],[1,1,1])"
   ]
  },
  {
   "cell_type": "code",
   "execution_count": 12,
   "id": "included-england",
   "metadata": {},
   "outputs": [
    {
     "name": "stdout",
     "output_type": "stream",
     "text": [
      "centers : [[29.0, 3.0, 0.0], [26.666666666666668, 7.666666666666667, 0.0], [84.66666666666667, 5.666666666666667, 0.0]]\n"
     ]
    },
    {
     "data": {
      "image/png": "[encoded data removed]",
      "text/plain": [
       "<Figure size 432x288 with 1 Axes>"
      ]
     },
     "metadata": {
      "needs_background": "light"
     },
     "output_type": "display_data"
    },
    {
     "name": "stdout",
     "output_type": "stream",
     "text": [
      "['red', 'blue', 'yellow', 'green']\n"
     ]
    }
   ],
   "source": [
    "\n",
    "\n",
    "def reVal(data,centers):\n",
    "    data = np.array(data)\n",
    "    centers = np.array(centers)\n",
    "#     print('---',data,'@@',centers,'||')\n",
    "    nd = []\n",
    "    sum_c = [0 for i in centers]\n",
    "    count = [0 for i in centers]\n",
    "    for row in data:\n",
    "        dist = [findDist(row , c) for c in centers]\n",
    "        nd.append([i for i in row[:-1] ]+ [dist.index(np.min(dist))])\n",
    "#         row[-1]=dist.index(np.min(dist))\n",
    "        sum_c[dist.index(np.min(dist))]+= row\n",
    "        count[dist.index(np.min(dist))]+= 1\n",
    "        \n",
    "\n",
    "#     print(sum_c, count)\n",
    "\n",
    "    \n",
    "    new_c =[]\n",
    "\n",
    "    for c,n in zip(sum_c, count):\n",
    "#         print('-',c,n)\n",
    "        new_c.append([i/n for i in c])\n",
    "        \n",
    "        \n",
    "\n",
    "#     print(new_c,nd)\n",
    "    \n",
    "    return nd,new_c\n",
    "\n",
    "def Kmean(data,k=3):\n",
    "#     data = np.array(data)\n",
    "#     printPonits(data)\n",
    "    centers = [row for row,i in zip(data, range(k))] \n",
    "    lData = [row +[0] for row in data]\n",
    "    data = np.array(data)\n",
    "#     print(lData)\n",
    "    old = centers\n",
    "    \n",
    "    while True:     \n",
    "        lData,new = reVal(lData, old)\n",
    "        if new != old:\n",
    "            break\n",
    "            \n",
    "    print('centers :',new)\n",
    "    return lData\n",
    "        \n",
    "\n",
    "c =['red','blue','yellow','green']\n",
    "data = Kmean([[29,3],[28,8],[90,8],[24,8],[98,0],[66,9],[33,7],[26,9],[34,8],[15,6]],k=3)\n",
    "printPonits(data,c)\n",
    "print(c)"
   ]
  },
  {
   "cell_type": "code",
   "execution_count": null,
   "id": "nominated-projection",
   "metadata": {},
   "outputs": [],
   "source": []
  },
  {
   "cell_type": "code",
   "execution_count": null,
   "id": "complimentary-philippines",
   "metadata": {},
   "outputs": [],
   "source": []
  },
  {
   "cell_type": "code",
   "execution_count": null,
   "id": "canadian-gateway",
   "metadata": {},
   "outputs": [],
   "source": []
  },
  {
   "cell_type": "code",
   "execution_count": null,
   "id": "imposed-retirement",
   "metadata": {},
   "outputs": [],
   "source": []
  },
  {
   "cell_type": "code",
   "execution_count": null,
   "id": "worth-subject",
   "metadata": {},
   "outputs": [],
   "source": []
  },
  {
   "cell_type": "code",
   "execution_count": null,
   "id": "viral-alert",
   "metadata": {},
   "outputs": [],
   "source": []
  }
 ],
 "metadata": {
  "kernelspec": {
   "display_name": "Python 3",
   "language": "python",
   "name": "python3"
  },
  "language_info": {
   "codemirror_mode": {
    "name": "ipython",
    "version": 3
   },
   "file_extension": ".py",
   "mimetype": "text/x-python",
   "name": "python",
   "nbconvert_exporter": "python",
   "pygments_lexer": "ipython3",
   "version": "3.9.2"
  }
 },
 "nbformat": 4,
 "nbformat_minor": 5
}
