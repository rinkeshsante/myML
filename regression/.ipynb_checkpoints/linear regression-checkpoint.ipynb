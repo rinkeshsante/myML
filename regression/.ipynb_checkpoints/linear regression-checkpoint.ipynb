{
 "cells": [
  {
   "cell_type": "code",
   "execution_count": 1,
   "id": "simplified-missouri",
   "metadata": {},
   "outputs": [],
   "source": [
    "import numpy as np\n",
    "import matplotlib.pyplot  as plt"
   ]
  },
  {
   "cell_type": "code",
   "execution_count": 2,
   "id": "neutral-sleeping",
   "metadata": {},
   "outputs": [],
   "source": [
    "def getModel(points):\n",
    "    \n",
    "    n = len(points)\n",
    "    \n",
    "    xl ,yl =np.array([pt[0] for pt in points]) ,np.array( [pt[1] for pt in points])\n",
    "    \n",
    "    x = sum(xl)\n",
    "    y = sum(yl)\n",
    "    x2 = sum(xl**2)\n",
    "    y2 = sum(yl**2)\n",
    "    xy = sum(xl*yl)\n",
    "\n",
    "    m = (n*xy - x*y)/(n*x2 - x**2)\n",
    "    c = (y*x2 - x*xy)/(n*x2 - x**2)\n",
    "\n",
    "    # mean of x and y vector\n",
    "#     m_x = np.mean(xl)\n",
    "#     m_y = np.mean(yl)\n",
    " \n",
    "#     # calculating cross-deviation and deviation about x\n",
    "#     SS_xy = np.sum(y*x) - n* m_y*m_x\n",
    "#     SS_xx = np.sum(x*x) - n* m_x*m_x\n",
    " \n",
    "#     # calculating regression coefficients\n",
    "#     c = SS_xy / SS_xx\n",
    "#     m = m_y -  c*m_x\n",
    "\n",
    "    return {'c':c , 'm':m}\n"
   ]
  },
  {
   "cell_type": "code",
   "execution_count": 6,
   "id": "choice-format",
   "metadata": {},
   "outputs": [],
   "source": [
    "def print_line(line , ponits):\n",
    "    xl ,yl =np.array([pt[0] for pt in p]) ,np.array( [pt[1] for pt in p])\n",
    "\n",
    "    plt.scatter( xl,yl ,color = \"m\",\n",
    "                   marker = \"o\", s = 30)\n",
    "\n",
    "    # predicted response vector\n",
    "    y_pred = line['c'] + line['m']*xl\n",
    "\n",
    "    # plotting the regression line\n",
    "    plt.plot(xl, y_pred, color = \"g\")\n",
    "\n",
    "    # putting labels\n",
    "    plt.xlabel('x')\n",
    "    plt.ylabel('y')\n",
    "\n",
    "    # function to show plot\n",
    "    plt.show()"
   ]
  },
  {
   "cell_type": "code",
   "execution_count": 7,
   "id": "focused-abortion",
   "metadata": {},
   "outputs": [],
   "source": [
    "def predict(line,x=None,y=None):\n",
    "    if y == None:\n",
    "        y = line['c'] + x * line['m']\n",
    "    elif line['m'] ==0:\n",
    "        return 'slop is 0 , cannot find x cordinate'\n",
    "    else:\n",
    "        x = (y - line['c'])/line['m']    \n",
    "    return {'x':x,'y':y}\n",
    "    \n"
   ]
  },
  {
   "cell_type": "code",
   "execution_count": 8,
   "id": "primary-football",
   "metadata": {},
   "outputs": [
    {
     "data": {
      "image/png": "[encoded data removed]",
      "text/plain": [
       "<Figure size 432x288 with 1 Axes>"
      ]
     },
     "metadata": {
      "needs_background": "light"
     },
     "output_type": "display_data"
    },
    {
     "data": {
      "text/plain": [
       "{'c': 1.1170280612244892, 'm': 0.9119897959183676}"
      ]
     },
     "execution_count": 8,
     "metadata": {},
     "output_type": "execute_result"
    }
   ],
   "source": [
    "\n",
    "p = [\n",
    "    [0, 1],\n",
    "    [1, 2],\n",
    "    [2, 3],\n",
    "    [3.1, 4],\n",
    "    [3,5],\n",
    "    [6,6],\n",
    "    [2.9,2],\n",
    "    [4,6]\n",
    "    \n",
    "]\n",
    "\n",
    "line = getModel(p)\n",
    "print_line(line , p)\n",
    "line"
   ]
  },
  {
   "cell_type": "code",
   "execution_count": 9,
   "id": "young-presentation",
   "metadata": {},
   "outputs": [
    {
     "data": {
      "text/plain": [
       "{'x': 10, 'y': 10.236926020408166}"
      ]
     },
     "execution_count": 9,
     "metadata": {},
     "output_type": "execute_result"
    }
   ],
   "source": [
    "predict(line , x = 10)"
   ]
  },
  {
   "cell_type": "code",
   "execution_count": 10,
   "id": "colonial-groove",
   "metadata": {},
   "outputs": [
    {
     "ename": "NameError",
     "evalue": "name 'm' is not defined",
     "output_type": "error",
     "traceback": [
      "\u001b[1;31m---------------------------------------------------------------------------\u001b[0m",
      "\u001b[1;31mNameError\u001b[0m                                 Traceback (most recent call last)",
      "\u001b[1;32m<ipython-input-10-82c791c32859>\u001b[0m in \u001b[0;36m<module>\u001b[1;34m\u001b[0m\n\u001b[1;32m----> 1\u001b[1;33m \u001b[0mpredict\u001b[0m\u001b[1;33m(\u001b[0m\u001b[0mline\u001b[0m \u001b[1;33m,\u001b[0m \u001b[0my\u001b[0m \u001b[1;33m=\u001b[0m \u001b[1;36m10\u001b[0m\u001b[1;33m)\u001b[0m\u001b[1;33m\u001b[0m\u001b[1;33m\u001b[0m\u001b[0m\n\u001b[0m",
      "\u001b[1;32m<ipython-input-7-a01dbe913143>\u001b[0m in \u001b[0;36mpredict\u001b[1;34m(line, x, y)\u001b[0m\n\u001b[0;32m      2\u001b[0m     \u001b[1;32mif\u001b[0m \u001b[0my\u001b[0m \u001b[1;33m==\u001b[0m \u001b[1;32mNone\u001b[0m\u001b[1;33m:\u001b[0m\u001b[1;33m\u001b[0m\u001b[1;33m\u001b[0m\u001b[0m\n\u001b[0;32m      3\u001b[0m         \u001b[0my\u001b[0m \u001b[1;33m=\u001b[0m \u001b[0mline\u001b[0m\u001b[1;33m[\u001b[0m\u001b[1;34m'c'\u001b[0m\u001b[1;33m]\u001b[0m \u001b[1;33m+\u001b[0m \u001b[0mx\u001b[0m \u001b[1;33m*\u001b[0m \u001b[0mline\u001b[0m\u001b[1;33m[\u001b[0m\u001b[1;34m'm'\u001b[0m\u001b[1;33m]\u001b[0m\u001b[1;33m\u001b[0m\u001b[1;33m\u001b[0m\u001b[0m\n\u001b[1;32m----> 4\u001b[1;33m     \u001b[1;32melif\u001b[0m \u001b[0mm\u001b[0m \u001b[1;33m==\u001b[0m\u001b[1;36m0\u001b[0m\u001b[1;33m:\u001b[0m\u001b[1;33m\u001b[0m\u001b[1;33m\u001b[0m\u001b[0m\n\u001b[0m\u001b[0;32m      5\u001b[0m         \u001b[1;32mreturn\u001b[0m \u001b[1;34m'slop is 0 , cannot find x cordinate'\u001b[0m\u001b[1;33m\u001b[0m\u001b[1;33m\u001b[0m\u001b[0m\n\u001b[0;32m      6\u001b[0m     \u001b[1;32melse\u001b[0m\u001b[1;33m:\u001b[0m\u001b[1;33m\u001b[0m\u001b[1;33m\u001b[0m\u001b[0m\n",
      "\u001b[1;31mNameError\u001b[0m: name 'm' is not defined"
     ]
    }
   ],
   "source": [
    "predict(line , y = 10)"
   ]
  },
  {
   "cell_type": "code",
   "execution_count": null,
   "id": "bright-playlist",
   "metadata": {},
   "outputs": [],
   "source": []
  }
 ],
 "metadata": {
  "kernelspec": {
   "display_name": "Python 3",
   "language": "python",
   "name": "python3"
  },
  "language_info": {
   "codemirror_mode": {
    "name": "ipython",
    "version": 3
   },
   "file_extension": ".py",
   "mimetype": "text/x-python",
   "name": "python",
   "nbconvert_exporter": "python",
   "pygments_lexer": "ipython3",
   "version": "3.9.2"
  }
 },
 "nbformat": 4,
 "nbformat_minor": 5
}
